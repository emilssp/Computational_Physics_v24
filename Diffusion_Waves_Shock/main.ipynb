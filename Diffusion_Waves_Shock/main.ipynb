{
 "cells": [
  {
   "cell_type": "code",
   "execution_count": null,
   "metadata": {},
   "outputs": [],
   "source": [
    "using Distributions, Random, Plots, CurveFit, LinearAlgebra\n",
    "Random.seed!(123)"
   ]
  },
  {
   "cell_type": "code",
   "execution_count": null,
   "metadata": {},
   "outputs": [],
   "source": [
    "global const diffusivity = 1.00::Float64\n",
    "\n",
    "global const endtime = 1.00::Float64\n",
    "global const dt = 0.0001::Float64\n",
    "global const timesteps = Int64(div(endtime,dt)+1)::Int64\n",
    "\n",
    "global const spacesteps = 51::Int64\n",
    "\n",
    "global const cls = (diffusivity*(spacesteps*spacesteps)/timesteps)::Float64\n"
   ]
  },
  {
   "cell_type": "code",
   "execution_count": null,
   "metadata": {},
   "outputs": [],
   "source": []
  },
  {
   "cell_type": "markdown",
   "metadata": {},
   "source": [
    "### Diffusion equation \n",
    "$$\\frac{\\partial u}{\\partial t} = \\frac{\\partial}{\\partial x} \\left( D\\frac{\\partial u}{\\partial x}\\right)$$"
   ]
  },
  {
   "cell_type": "code",
   "execution_count": null,
   "metadata": {},
   "outputs": [],
   "source": [
    "function Crank_Nicolson_step(A, B, u_inint)\n",
    "    return A\\(B*u_inint)\n",
    "end\n",
    "\n",
    "function CN_absorbing_BC(u_init, alpha)\n",
    "    #A * U_n+1 = B * U_n\n",
    "    n_steps = spacesteps-2\n",
    "\n",
    "    A = Tridiagonal(fill(-alpha/2, n_steps-1),\n",
    "                    fill(1+alpha, n_steps),\n",
    "                    fill(-alpha/2, n_steps-1))\n",
    "\n",
    "    B = Tridiagonal(fill(alpha/2, n_steps-1),\n",
    "                    fill(1-alpha, n_steps),\n",
    "                    fill(alpha/2, n_steps-1))\n",
    "\n",
    "\n",
    "    res = Array{Array{Float64, 1}, 1}(undef, timesteps)\n",
    "    res[1] = u_init\n",
    "    for i in 2:timesteps\n",
    "        res[i] = reduce(vcat, [0, Crank_Nicolson_step(A,B,res[i-1][2:end-1]),0])\n",
    "    end\n",
    "    return res\n",
    "end \n",
    "\n",
    "function CN_reflecting_BC(u_init, alpha)\n",
    "    #A * U_n+1 = B * U_n\n",
    "    n_steps = size(u_init,1)\n",
    "\n",
    "    A = Tridiagonal(reduce(vcat, [fill(-alpha/2, n_steps-2), -alpha]),\n",
    "                        fill(1+alpha, n_steps),\n",
    "                        reduce(vcat, [-alpha, fill(-alpha/2, n_steps-2)]))\n",
    "    \n",
    "    B = Tridiagonal(reduce(vcat, [fill(alpha/2, n_steps-2), alpha]),\n",
    "                        fill(1-alpha, n_steps),\n",
    "                        reduce(vcat, [alpha, fill(alpha/2, n_steps-2)]))\n",
    "\n",
    "    res = Array{Array{Float64, 1}, 1}(undef, timesteps)\n",
    "    res[1] = u_init\n",
    "    for i in 2:timesteps\n",
    "        res[i] = Crank_Nicolson_step(A,B,res[i-1])\n",
    "    end\n",
    "    return res\n",
    "end\n",
    "\n"
   ]
  },
  {
   "cell_type": "code",
   "execution_count": null,
   "metadata": {},
   "outputs": [],
   "source": [
    "function u_analytical(consts, x, t)\n",
    "    u0 = consts[1]\n",
    "    x0 = consts[2]\n",
    "    pref = u0/(sqrt(4*pi*diffusivity))\n",
    "    return pref / t * exp(-(x-x0)^2/(4*diffusivity*t))\n",
    "end\n",
    "\n",
    "x = reduce(vcat, [0, cumsum(fill(1/(spacesteps-1), spacesteps-1))])\n",
    "t = LinRange(0,endtime, timesteps)\n",
    "\n",
    "print(u_analytical.([1,0.5],x,t))"
   ]
  },
  {
   "cell_type": "code",
   "execution_count": null,
   "metadata": {},
   "outputs": [],
   "source": [
    "x = reduce(vcat, [0, cumsum(fill(1/(spacesteps-1), spacesteps-1))])\n",
    "t = LinRange(0,endtime, timesteps)\n",
    "\n",
    "u_init = zeros(spacesteps)\n",
    "u_init[div(spacesteps, 2)+1] = 1\n",
    "\n",
    "plot(scatter(x,CN_absorbing_BC(u_init, cls)[70], label = t[700]))\n",
    "plot!(scatter!(x,CN_absorbing_BC(u_init, cls)[150], label = t[1500]))\n",
    "plot!(scatter!(x,CN_absorbing_BC(u_init, cls)[500], label = t[5090]))\n",
    "plot!(scatter!(x,CN_absorbing_BC(u_init, cls)[1000], label = t[10000]))\n"
   ]
  },
  {
   "cell_type": "code",
   "execution_count": null,
   "metadata": {},
   "outputs": [],
   "source": [
    "plot(scatter(x,CN_reflecting_BC(u_init, cls)[70]))\n",
    "plot!(scatter!(x,CN_reflecting_BC(u_init, cls)[150]))\n",
    "plot!(scatter!(x,CN_reflecting_BC(u_init, cls)[500]))\n",
    "plot!(scatter!(x,CN_reflecting_BC(u_init, cls)[1000]),label())"
   ]
  }
 ],
 "metadata": {
  "kernelspec": {
   "display_name": "Julia 1.10.0",
   "language": "julia",
   "name": "julia-1.10"
  },
  "language_info": {
   "file_extension": ".jl",
   "mimetype": "application/julia",
   "name": "julia",
   "version": "1.10.0"
  }
 },
 "nbformat": 4,
 "nbformat_minor": 2
}
