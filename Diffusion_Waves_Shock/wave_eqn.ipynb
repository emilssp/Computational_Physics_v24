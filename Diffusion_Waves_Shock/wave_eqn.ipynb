{
 "cells": [
  {
   "cell_type": "code",
   "execution_count": 1,
   "metadata": {},
   "outputs": [],
   "source": [
    "include(\"src/utils/diffusion_funcs.jl\")\n",
    "using Distributions, Plots, LinearAlgebra, SpecialFunctions"
   ]
  },
  {
   "cell_type": "markdown",
   "metadata": {},
   "source": [
    "$$\n",
    "\\frac{\\partial^2u}{\\partial t^2} = c^2 \\left( \\frac{\\partial^2u}{\\partial x^2}  + \\frac{\\partial^2u}{\\partial y^2}\n",
    "\\right)\n",
    "$$"
   ]
  },
  {
   "cell_type": "code",
   "execution_count": 2,
   "metadata": {},
   "outputs": [
    {
     "data": {
      "text/plain": [
       "150.0"
      ]
     },
     "metadata": {},
     "output_type": "display_data"
    }
   ],
   "source": [
    "const endtime = 1.00::Float64\n",
    "const L = 1.00::Float64\n",
    "\n",
    "const dt = 1e-4::Float64\n",
    "const timesteps = Int64(div(endtime,dt)+1)::Int64\n",
    "\n",
    "const spacesteps = 150::Int64\n",
    "\n",
    "const u0_tilda = 1::Int64\n",
    "const u0 = (u0_tilda*spacesteps/L)::Float64"
   ]
  },
  {
   "cell_type": "code",
   "execution_count": 3,
   "metadata": {},
   "outputs": [
    {
     "data": {
      "text/plain": [
       "150×150 Matrix{Float64}:\n",
       "  0.0   0.0           0.0          …   0.0           0.0\n",
       "  0.0   0.000888784   0.00177717       0.000888784   1.36212e-16\n",
       "  0.0   0.00177599    0.00355119       0.00177599    2.72181e-16\n",
       "  0.0   0.00266003    0.00531889       0.00266003    4.07666e-16\n",
       "  0.0   0.00353935    0.00707713       0.00353935    5.42427e-16\n",
       "  0.0   0.00441238    0.00882279   …   0.00441238    6.76223e-16\n",
       "  0.0   0.00527755    0.0105528        0.00527755    8.08817e-16\n",
       "  0.0   0.00613335    0.012264         0.00613335    9.39973e-16\n",
       "  0.0   0.00697824    0.0139534        0.00697824    1.06946e-15\n",
       "  0.0   0.00781072    0.015618         0.00781072    1.19704e-15\n",
       "  ⋮                                ⋱                \n",
       " -0.0  -0.00697824   -0.0139534       -0.00697824   -1.06946e-15\n",
       " -0.0  -0.00613335   -0.012264        -0.00613335   -9.39973e-16\n",
       " -0.0  -0.00527755   -0.0105528       -0.00527755   -8.08817e-16\n",
       " -0.0  -0.00441238   -0.00882279      -0.00441238   -6.76223e-16\n",
       " -0.0  -0.00353935   -0.00707713   …  -0.00353935   -5.42427e-16\n",
       " -0.0  -0.00266003   -0.00531889      -0.00266003   -4.07666e-16\n",
       " -0.0  -0.00177599   -0.00355119      -0.00177599   -2.72181e-16\n",
       " -0.0  -0.000888784  -0.00177717      -0.000888784  -1.36212e-16\n",
       " -0.0  -1.36242e-16  -2.72423e-16     -1.36242e-16  -2.08799e-29"
      ]
     },
     "metadata": {},
     "output_type": "display_data"
    }
   ],
   "source": [
    "x = reduce(vcat, [0, cumsum(fill(L/(spacesteps-1), spacesteps-1))])\n",
    "y = reduce(vcat, [0, cumsum(fill(L/(spacesteps-1), spacesteps-1))])\n",
    "\n",
    "t = LinRange(0,endtime, timesteps)\n",
    "\n",
    "u_init = sin.(pi*x') .* sin.(2*pi*y) "
   ]
  }
 ],
 "metadata": {
  "kernelspec": {
   "display_name": "Julia 1.10.0",
   "language": "julia",
   "name": "julia-1.10"
  },
  "language_info": {
   "file_extension": ".jl",
   "mimetype": "application/julia",
   "name": "julia",
   "version": "1.10.0"
  }
 },
 "nbformat": 4,
 "nbformat_minor": 2
}
