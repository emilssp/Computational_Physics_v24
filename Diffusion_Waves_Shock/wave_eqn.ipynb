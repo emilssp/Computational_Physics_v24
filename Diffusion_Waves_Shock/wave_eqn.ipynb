{
 "cells": [
  {
   "cell_type": "code",
   "execution_count": 1,
   "metadata": {},
   "outputs": [],
   "source": [
    "include(\"src/funcs/diffusion_funcs.jl\")\n",
    "using Distributions, Plots, LinearAlgebra, SpecialFunctions"
   ]
  },
  {
   "cell_type": "markdown",
   "metadata": {},
   "source": [
    "$$\n",
    "\\frac{\\partial^2u}{\\partial t^2} = c^2 \\left( \\frac{\\partial^2u}{\\partial x^2}  + \\frac{\\partial^2u}{\\partial y^2}\n",
    "\\right)\n",
    "$$"
   ]
  }
 ],
 "metadata": {
  "kernelspec": {
   "display_name": "Julia 1.10.0",
   "language": "julia",
   "name": "julia-1.10"
  },
  "language_info": {
   "file_extension": ".jl",
   "mimetype": "application/julia",
   "name": "julia",
   "version": "1.10.0"
  }
 },
 "nbformat": 4,
 "nbformat_minor": 2
}
