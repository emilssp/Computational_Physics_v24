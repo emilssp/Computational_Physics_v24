{
 "cells": [
  {
   "cell_type": "code",
   "execution_count": 41,
   "metadata": {},
   "outputs": [],
   "source": [
    "import numpy as np\n",
    "import scipy as sp \n",
    "import matplotlib.pyplot as plt"
   ]
  },
  {
   "cell_type": "code",
   "execution_count": 42,
   "metadata": {},
   "outputs": [],
   "source": [
    "from sympy import Matrix\n",
    "from sympy.printing.latex import latex"
   ]
  },
  {
   "cell_type": "code",
   "execution_count": 43,
   "metadata": {},
   "outputs": [],
   "source": [
    "def transformation_matrix(N):\n",
    "    matrix = np.zeros((N, N))\n",
    "    # Fill ones in the subdiagonals\n",
    "    np.fill_diagonal(matrix[1:], 1)  \n",
    "    np.fill_diagonal(matrix[2:], 1)  \n",
    "    # Fill ones in the superdiagonal\n",
    "    np.fill_diagonal(matrix[:, 1:], 1)  \n",
    "    np.fill_diagonal(matrix[:, 2:], 1)  \n",
    "\n",
    "    # Connect the first and last rows for the periodic boundary conditions\n",
    "    np.fill_diagonal(matrix[:, -1:], 1)\n",
    "    np.fill_diagonal(matrix[:, -2:], 1)\n",
    "\n",
    "    np.fill_diagonal(matrix[-1:, :], 1)\n",
    "    np.fill_diagonal(matrix[-2:, :], 1)\n",
    "\n",
    "\n",
    "    return matrix/4 # Normalize the markov matrix \n",
    "\n",
    "def save_mat_to_latex(M, filename):\n",
    "    sym_M = Matrix(M)\n",
    "    # Get the LaTeX representation of the matrix\n",
    "    latex_code = latex(sym_M)\n",
    "\n",
    "    # Write LaTeX code to a .tex file\n",
    "    file_path = 'data/raw/transformation_mat/'+filename\n",
    "    print(file_path)\n",
    "    with open(file_path, 'w') as file:\n",
    "        file.write(latex_code)\n"
   ]
  },
  {
   "cell_type": "code",
   "execution_count": 44,
   "metadata": {},
   "outputs": [
    {
     "data": {
      "text/plain": [
       "<matplotlib.image.AxesImage at 0x28d429f6030>"
      ]
     },
     "execution_count": 44,
     "metadata": {},
     "output_type": "execute_result"
    },
    {
     "data": {
      "image/png": "[encoded data removed]",
      "text/plain": [
       "<Figure size 640x480 with 1 Axes>"
      ]
     },
     "metadata": {},
     "output_type": "display_data"
    }
   ],
   "source": [
    "dim = 21 # Dimension of the matrix\n",
    "N = 51 \n",
    "T = transformation_matrix(dim)\n",
    "plt.imshow(T)"
   ]
  },
  {
   "cell_type": "code",
   "execution_count": 45,
   "metadata": {},
   "outputs": [
    {
     "name": "stdout",
     "output_type": "stream",
     "text": [
      "data/raw/transformation_mat/matrix_21x21.tex\n",
      "3.637978807091714e-12\n"
     ]
    },
    {
     "data": {
      "text/plain": [
       "<matplotlib.colorbar.Colorbar at 0x28d42b37290>"
      ]
     },
     "execution_count": 45,
     "metadata": {},
     "output_type": "execute_result"
    },
    {
     "data": {
      "image/png": "[encoded data removed]",
      "text/plain": [
       "<Figure size 1000x300 with 2 Axes>"
      ]
     },
     "metadata": {},
     "output_type": "display_data"
    }
   ],
   "source": [
    "\n",
    "\n",
    "m = T.shape[0]\n",
    "n = T.shape[1]\n",
    "save_mat_to_latex(T, 'matrix_'+str(m)+'x'+str(n)+'.tex')\n",
    "print(np.linalg.det(T))\n",
    "t = np.linspace(0,N-1,N) #timesteps\n",
    "\n",
    "\n",
    "V0 = np.random.rand(dim)\n",
    "sol = np.zeros((dim,N))\n",
    "sol[:,0] = V0/np.linalg.norm(V0)\n",
    "sol[:, 0] /= np.linalg.norm(sol[:, 0])\n",
    "\n",
    "for i in range(1, N):\n",
    "    sol[:, i] = np.dot(T, sol[:, i-1])\n",
    "    sol[:, i] /= np.linalg.norm(sol[:, i-1])\n",
    "\n",
    "plt.figure(figsize=(10,3))\n",
    "plt.imshow(sol)\n",
    "plt.colorbar()\n"
   ]
  },
  {
   "cell_type": "code",
   "execution_count": 46,
   "metadata": {},
   "outputs": [
    {
     "name": "stdout",
     "output_type": "stream",
     "text": [
      "K for the simply connected matrix: 60.13587019314688\n"
     ]
    }
   ],
   "source": [
    "print('K for the simply connected matrix:', np.linalg.cond(T))"
   ]
  },
  {
   "cell_type": "code",
   "execution_count": 47,
   "metadata": {},
   "outputs": [
    {
     "name": "stdout",
     "output_type": "stream",
     "text": [
      "Iterative Method Results:\n",
      "Largest Eigenvalue: 0.9999999999999635\n",
      "Largest Eigenvector: [0.21821773 0.21821776 0.2182178  0.21821785 0.2182179  0.21821795\n",
      " 0.218218   0.21821803 0.21821806 0.21821807 0.21821806 0.21821804\n",
      " 0.21821801 0.21821796 0.21821791 0.21821786 0.21821781 0.21821776\n",
      " 0.21821773 0.21821771 0.21821771]\n",
      "Smallest Eigenvalue: -0.016629010219493943\n",
      "Smallest Eigenvector: [ 0.22303918 -0.25233689  0.27599781 -0.2934934   0.30443283 -0.30857173\n",
      "  0.30581765 -0.29623211  0.28002923 -0.25757097  0.229359   -0.19602352\n",
      "  0.15830921 -0.11705852  0.07319295 -0.02769236 -0.01842683  0.06413439\n",
      " -0.1084093   0.15026253 -0.18875913]\n",
      "\n",
      "Verification using np.linalg.eig:\n",
      "Largest Eigenvalue: [1.]\n",
      "Largest Eigenvector: [[-0.21821789 -0.21821789 -0.21821789 -0.21821789 -0.21821789 -0.21821789\n",
      "  -0.21821789 -0.21821789 -0.21821789 -0.21821789 -0.21821789 -0.21821789\n",
      "  -0.21821789 -0.21821789 -0.21821789 -0.21821789 -0.21821789 -0.21821789\n",
      "  -0.21821789 -0.21821789 -0.21821789]]\n",
      "Smallest Eigenvalue: [-0.01662901]\n",
      "Smallest Eigenvector: [[ 0.3026469  -0.30826231  0.30699164 -0.29886329  0.28405883 -0.26290897\n",
      "   0.23588615 -0.20359402  0.16675394 -0.12618886  0.08280492 -0.03757126\n",
      "  -0.00850168  0.05438471 -0.09905288  0.14150836 -0.18080278  0.21605837\n",
      "  -0.24648757  0.27141065 -0.29027086]]\n",
      "\n",
      "Error eps_max =  [3.58602037e-14]\n",
      "\n",
      "Error eps_min =  [6.25914635e-16]\n"
     ]
    }
   ],
   "source": [
    "# Function to perform power iteration to find the largest eigenvalue and the corresponding eigenvector\n",
    "def power_iteration(A, x, max_iter=10000):\n",
    "    tol = 1e-14\n",
    "\n",
    "    eigenval_prev = 0\n",
    "    \n",
    "    for _ in range(max_iter): \n",
    "        # Compute the updated approximation for the eigenvector \n",
    "        x = A @ x / np.linalg.norm(A @ x) \n",
    "        # Compute the updated approximation for the largest eigenvalue \n",
    "        eigenval = (x.T @ A @ x) / (x.T @ x) \n",
    "        # Check if the approximations have converged \n",
    "        if np.abs(eigenval - eigenval_prev) < tol: \n",
    "            break\n",
    "        # Store the current approximation for the largest eigenvalue \n",
    "        eigenval_prev = eigenval \n",
    "    \n",
    "    return eigenval, x \n",
    "\n",
    "def inverse_power_iteration(A, x, max_iter=10000):\n",
    "    tol = 1e-14\n",
    "\n",
    "    A_inv = sp.linalg.inv(A)\n",
    "    \n",
    "    eigenval_prev = 0\n",
    "    \n",
    "    for _ in range(max_iter): \n",
    "        # Compute the updated approximation for the eigenvector \n",
    "        x = A_inv @ x / np.linalg.norm(A_inv @ x) \n",
    "        # Compute the updated approximation for the largest eigenvalue \n",
    "        eigenval = (x.T @ A @ x) / (x.T @ x) \n",
    "        # Check if the approximations have converged \n",
    "        if np.abs(eigenval - eigenval_prev) < tol: \n",
    "            break\n",
    "        # Store the current approximation for the largest eigenvalue \n",
    "        eigenval_prev = eigenval \n",
    "    \n",
    "    return eigenval, x \n",
    "\n",
    "x = np.random.rand(T.shape[1])\n",
    "\n",
    "# Perform iterations\n",
    "largest_eigenvalue, largest_eigenvector = power_iteration(T,x)\n",
    "smallest_eigenvalue, smallest_eigenvector = inverse_power_iteration(T,x)\n",
    "\n",
    "# Verification using linalg.eig\n",
    "eigenvalues, eigenvectors = np.linalg.eig(T)\n",
    "eigenvectors = eigenvectors.T\n",
    "# Display results\n",
    "print(\"Iterative Method Results:\")\n",
    "print(\"Largest Eigenvalue:\", largest_eigenvalue)\n",
    "print(\"Largest Eigenvector:\", largest_eigenvector)\n",
    "print(\"Smallest Eigenvalue:\", smallest_eigenvalue)\n",
    "print(\"Smallest Eigenvector:\", smallest_eigenvector)\n",
    "\n",
    "print(\"\\nVerification using np.linalg.eig:\")\n",
    "print(\"Largest Eigenvalue:\", eigenvalues[np.where(eigenvalues == np.max(eigenvalues))])\n",
    "print(\"Largest Eigenvector:\", eigenvectors[np.where(eigenvalues == np.max(eigenvalues))])\n",
    "print(\"Smallest Eigenvalue:\", eigenvalues[np.where(abs(eigenvalues) == np.min(abs(eigenvalues)))])\n",
    "print(\"Smallest Eigenvector:\", eigenvectors[np.where(abs(eigenvalues) == np.min(abs(eigenvalues)))])\n",
    "\n",
    "print(\"\\nError eps_max = \", abs((largest_eigenvalue-eigenvalues[np.where(eigenvalues == np.max(eigenvalues))])/eigenvalues[np.where(eigenvalues == np.max(eigenvalues))]))\n",
    "print(\"\\nError eps_min = \", abs((smallest_eigenvalue-eigenvalues[np.where(abs(eigenvalues) == np.min(abs(eigenvalues)))])/eigenvalues[np.where(abs(eigenvalues) == np.min(abs(eigenvalues)))]))"
   ]
  },
  {
   "cell_type": "code",
   "execution_count": 48,
   "metadata": {},
   "outputs": [
    {
     "data": {
      "image/png": "[encoded data removed]",
      "text/plain": [
       "<Figure size 1000x400 with 2 Axes>"
      ]
     },
     "metadata": {},
     "output_type": "display_data"
    }
   ],
   "source": [
    "iter = 30\n",
    "V0 = np.random.rand(dim)\n",
    "V0 = V0/np.linalg.norm(V0)\n",
    "sol = np.zeros((dim, iter))\n",
    "sol[:, 0] = np.linalg.matrix_power(T,1000) @ V0 \n",
    "sol[:, 0] = sol[:, 0]/np.linalg.norm(sol[:, 0])\n",
    "\n",
    "for i in range(1, iter):\n",
    "    V0 = np.random.rand(dim)\n",
    "    V0 = V0/np.linalg.norm(V0)\n",
    "    sol[:, i] = np.linalg.matrix_power(T,1000) @ V0\n",
    "    sol[:, i] = sol[:, i]/np.linalg.norm(sol[:, i])\n",
    "\n",
    "plt.figure(figsize=(10,4))\n",
    "plt.imshow(sol)\n",
    "plt.colorbar()\n",
    "for i in range(sol.shape[0] - 1):\n",
    "    plt.axhline(y=i + 0.5, color='darkgrey', linestyle='-', linewidth=1)\n",
    "\n",
    "for i in range(sol.shape[1] - 1):\n",
    "    plt.axvline(x=i + 0.5, color='white', linestyle='-', linewidth=2)\n"
   ]
  },
  {
   "cell_type": "code",
   "execution_count": 49,
   "metadata": {},
   "outputs": [],
   "source": [
    "def is_eigenvector(v, eigenvectors, tolerance=1e-6):\n",
    "    v_norm = v / np.linalg.norm(v)  # Normalize the test vector\n",
    "\n",
    "    for eigenvector in eigenvectors:\n",
    "        eigenvector_norm = eigenvector / np.linalg.norm(eigenvector)  # Normalize the eigenvector\n",
    "\n",
    "        # Check if the absolute value of the dot product is close to 1\n",
    "        if np.abs(np.dot(v_norm, eigenvector_norm)) > 1 - tolerance:\n",
    "            return True\n",
    "    \n",
    "    return False"
   ]
  },
  {
   "cell_type": "code",
   "execution_count": 50,
   "metadata": {},
   "outputs": [
    {
     "name": "stdout",
     "output_type": "stream",
     "text": [
      "True\n"
     ]
    }
   ],
   "source": [
    "print(is_eigenvector(sol[:,0], eigenvectors)) # See that the state vector converges towards \n"
   ]
  },
  {
   "cell_type": "markdown",
   "metadata": {},
   "source": [
    "The eigenvectors of $T$ provide insight into how changes in the network's state propagate. If $T$ has a dominant eigenvalue (say $\\lambda_1$), whose magnitude is larger than that of other eigenvalues, and the corresponding eigenvector $u_1$, then as $n$ grows large, $T^n$ effectively becomes dominated by $\\lambda_1^n$, aligning all resulting vectors along $u_1$:\n",
    "$$\n",
    "\\lim_{n \\to \\infty} T^n \\approx \\lambda_1^n u_1 u_1^T\n",
    "$$\n",
    "This expression indicates that for large $n$, the transformation $T^n$ simplifies to the outer product of $u_1$ with itself, scaled by $\\lambda_1^n$, which projects any vector it transforms into the direction defined by $u_1$.\n"
   ]
  },
  {
   "cell_type": "code",
   "execution_count": 51,
   "metadata": {},
   "outputs": [
    {
     "name": "stdout",
     "output_type": "stream",
     "text": [
      "data/raw/transformation_mat/disjointed.tex\n"
     ]
    },
    {
     "data": {
      "image/png": "[encoded data removed]",
      "text/plain": [
       "<Figure size 640x480 with 1 Axes>"
      ]
     },
     "metadata": {},
     "output_type": "display_data"
    }
   ],
   "source": [
    "def fully_connected_adjacency(n):\n",
    "    return np.ones((n, n)) - np.eye(n)\n",
    "\n",
    "# Sub-network sizes\n",
    "n1, n2 = 11, 10\n",
    "\n",
    "# Create adjacency matrices for both sub-networks\n",
    "A1 = transformation_matrix(n1)\n",
    "A2 = transformation_matrix(n2)\n",
    "\n",
    "# Combine into a single adjacency matrix for the entire system\n",
    "A = np.block([\n",
    "    [A1, np.zeros((n1, n2))],\n",
    "    [np.zeros((n2, n1)), A2]\n",
    "])\n",
    "plt.imshow(A)\n",
    "\n",
    "save_mat_to_latex(A,'disjointed.tex')"
   ]
  },
  {
   "cell_type": "code",
   "execution_count": 52,
   "metadata": {},
   "outputs": [
    {
     "name": "stdout",
     "output_type": "stream",
     "text": [
      "\n",
      "Verification using np.linalg.eig:\n",
      "Largest Eigenvalues (1), (2): 1.0000000000000009\n",
      "\n",
      "Largest Eigenvector (1): [-0.30151134 -0.42640143  0.02479785 -0.42640143  0.00422679  0.42640143\n",
      "  0.00729082  0.41503642 -0.02557686 -0.42640143  0.02560404  0.\n",
      "  0.          0.          0.          0.          0.          0.\n",
      "  0.          0.          0.        ]\n",
      "Largest Eigenvector (2): [ 0.          0.          0.          0.          0.          0.\n",
      "  0.          0.          0.          0.          0.          0.31622777\n",
      " -0.31622777 -0.21975425  0.20019004  0.4472136  -0.20733376  0.63245553\n",
      "  0.02409836  0.13867367 -0.07210001] \n",
      "\n",
      "\n",
      "\n",
      "Verification using np.linalg.eig:\n",
      "Smallest Eigenvalues (1): -0.059119720391658005\n",
      "Smallest Eigenvalues (2): -0.059119720391658186\n",
      "\n",
      "Smallest Eigenvector (1): [-0.30151134  0.06068325  0.41781784 -0.17713356 -0.38609346  0.35871171\n",
      " -0.22436289 -0.19788604  0.33842173  0.40912918 -0.14448129  0.\n",
      "  0.          0.          0.          0.          0.          0.\n",
      "  0.          0.          0.        ]\n",
      "Smallest Eigenvector (2): [-0.30151134  0.27923356  0.30546815 -0.35871171  0.23407449 -0.40912918\n",
      " -0.12710909  0.08345913 -0.397795    0.06068325 -0.42494353  0.\n",
      "  0.          0.          0.          0.          0.          0.\n",
      "  0.          0.          0.        ]\n"
     ]
    }
   ],
   "source": [
    "# Eigenvalues using linalg.eig\n",
    "eigenvalues, eigenvectors = np.linalg.eig(A)\n",
    "eigenvectors = eigenvectors.T\n",
    "\n",
    "# Find the largest and smallest eigenvalues (ignore tiny imaginary parts due to computational issues)\n",
    "sorted_indices = np.argsort(abs(eigenvalues))\n",
    "largest_eigenvalue = eigenvalues[sorted_indices[-1]]\n",
    "smallest_eigenvalue = eigenvalues[sorted_indices[0]]\n",
    "largest_eigenvector = eigenvectors[:, sorted_indices[-1]]\n",
    "smallest_eigenvector = eigenvectors[:, sorted_indices[0]]\n",
    "\n",
    "print(\"\\nVerification using np.linalg.eig:\")\n",
    "print(\"Largest Eigenvalues (1), (2):\", eigenvalues[sorted_indices[-1]])\n",
    "print()\n",
    "print(\"Largest Eigenvector (1):\", eigenvectors[:, sorted_indices[-1]])\n",
    "print(\"Largest Eigenvector (2):\", eigenvectors[:, sorted_indices[-2]],\"\\n\\n\")\n",
    "\n",
    "print(\"\\nVerification using np.linalg.eig:\")\n",
    "print(\"Smallest Eigenvalues (1):\", eigenvalues[sorted_indices[1]])\n",
    "print(\"Smallest Eigenvalues (2):\", eigenvalues[sorted_indices[2]])\n",
    "print()\n",
    "print(\"Smallest Eigenvector (1):\", eigenvectors[:, sorted_indices[1]])\n",
    "print(\"Smallest Eigenvector (2):\", eigenvectors[:, sorted_indices[2]])"
   ]
  },
  {
   "cell_type": "code",
   "execution_count": 53,
   "metadata": {},
   "outputs": [
    {
     "name": "stdout",
     "output_type": "stream",
     "text": [
      "K for the disjointed matrix: 4.028967658534014e+17\n"
     ]
    },
    {
     "data": {
      "image/png": "[encoded data removed]",
      "text/plain": [
       "<Figure size 1000x400 with 2 Axes>"
      ]
     },
     "metadata": {},
     "output_type": "display_data"
    }
   ],
   "source": [
    "iter = 30\n",
    "V0 = np.random.rand(dim)\n",
    "V0 = V0/np.linalg.norm(V0)\n",
    "sol = np.zeros((dim, iter))\n",
    "sol[:, 0] = np.linalg.matrix_power(A,1000) @ V0 \n",
    "sol[:, 0] = sol[:, 0]/np.linalg.norm(sol[:, 0])\n",
    "\n",
    "for i in range(1, iter):\n",
    "    V0 = np.random.rand(dim)\n",
    "    V0 = V0/np.linalg.norm(V0)\n",
    "    sol[:, i] = np.linalg.matrix_power(A,1000) @ V0\n",
    "    sol[:, i] = sol[:, i]/np.linalg.norm(sol[:, i])\n",
    "\n",
    "plt.figure(figsize=(10,4))\n",
    "plt.imshow(sol)\n",
    "plt.colorbar()\n",
    "for i in range(sol.shape[0] - 1):\n",
    "    plt.axhline(y=i + 0.5, color='darkgrey', linestyle='-', linewidth=1)\n",
    "\n",
    "for i in range(sol.shape[1] - 1):\n",
    "    plt.axvline(x=i + 0.5, color='white', linestyle='-', linewidth=2)\n",
    "\n",
    "print('K for the disjointed matrix:', np.linalg.cond(A))"
   ]
  },
  {
   "cell_type": "markdown",
   "metadata": {},
   "source": [
    "The system chooses one of the dominating eigenstates depending on the initial state.\n",
    "$${\\text {Relative error in output} \\over \\text {Relative error in input}} \\leq K(\\mathbf{A}) \\rightarrow {\\lVert \\Delta x \\rVert \\over  {\\lVert x \\rVert}} \\leq K(\\mathbf{A}) {\\lVert \\Delta b \\rVert \\over {\\lVert b \\rVert}}$$  \n",
    "High K number indicates ill conditioned matrix.\n",
    "$$ K(\\mathbf{A}) = {\\lVert A^{-1} \\rVert}\\cdot {\\lVert A \\rVert}$$\n"
   ]
  },
  {
   "cell_type": "code",
   "execution_count": 54,
   "metadata": {},
   "outputs": [],
   "source": [
    "import time\n",
    "import timeit"
   ]
  },
  {
   "cell_type": "code",
   "execution_count": 55,
   "metadata": {},
   "outputs": [],
   "source": [
    "def inv_solve(A,v):\n",
    "    if (np.linalg.det(A)==0):\n",
    "        return \"Error\" #return error if a matrix is not invertible \n",
    "    return np.linalg.inv(A) @ v\n"
   ]
  },
  {
   "cell_type": "code",
   "execution_count": 56,
   "metadata": {},
   "outputs": [
    {
     "name": "stdout",
     "output_type": "stream",
     "text": [
      "Finding V(t-dt)\n",
      "\n",
      "150 µs ± 2.72 µs per loop (mean ± std. dev. of 7 runs, 10,000 loops each)\n",
      "Solution using matrix inversion (LU decomposition):\n",
      " [-4.39241309  4.89876229 -2.61858589  3.82519399 -2.99820986  1.71803346\n",
      " -2.12464156  1.9643241  -0.11271912  1.01932722 -0.41456532 -1.03703966\n",
      "  0.49406792 -0.7654965   2.52479378 -1.69610776  2.234203   -3.74350028\n",
      "  3.15010838 -3.46598139  5.18580499] \n",
      "\n",
      "81.1 µs ± 491 ns per loop (mean ± std. dev. of 7 runs, 10,000 loops each)\n",
      "Solution using np.linalg.solve:\n",
      " [-4.39241309  4.89876229 -2.61858589  3.82519399 -2.99820986  1.71803346\n",
      " -2.12464156  1.9643241  -0.11271912  1.01932722 -0.41456532 -1.03703966\n",
      "  0.49406792 -0.7654965   2.52479378 -1.69610776  2.234203   -3.74350028\n",
      "  3.15010838 -3.46598139  5.18580499] \n",
      "\n"
     ]
    }
   ],
   "source": [
    "b = np.ones(dim)\n",
    "for i in range(1,dim+1):\n",
    "    b[i-1]/=i\n",
    "\n",
    "print(\"Finding V(t-dt)\\n\")\n",
    "\n",
    "%timeit sol1 = inv_solve(T,b)\n",
    "\n",
    "print(\"Solution using matrix inversion (LU decomposition):\\n\",inv_solve(T,b),'\\n')\n",
    "\n",
    "%timeit sol_np = np.linalg.solve(T,b)\n",
    "print(\"Solution using np.linalg.solve:\\n\",np.linalg.solve(T,b),'\\n')"
   ]
  },
  {
   "cell_type": "code",
   "execution_count": 57,
   "metadata": {},
   "outputs": [],
   "source": [
    "def gauss_elim(A, b):\n",
    "    # Create an augmented matrix [A | b]\n",
    "    n = len(b)\n",
    "    Ab = np.hstack([A, b.reshape(-1, 1)])\n",
    "    \n",
    "    # Gaussian elimination with pivoting\n",
    "    for i in range(n):\n",
    "        max_row = np.argmax(np.abs(Ab[i:, i])) + i\n",
    "        Ab[[i, max_row]] = Ab[[max_row, i]]\n",
    "        \n",
    "        for j in range(i+1, n):\n",
    "            ratio = Ab[j, i] / Ab[i, i]\n",
    "            Ab[j, i:] -= ratio * Ab[i, i:]\n",
    "    \n",
    "    # Back substitution\n",
    "    x = np.zeros(n)\n",
    "    for i in range(n - 1, -1, -1):\n",
    "        x[i] = (Ab[i, -1] - np.dot(Ab[i, i+1:n], x[i+1:n])) / Ab[i, i]\n",
    "    \n",
    "    return x"
   ]
  },
  {
   "cell_type": "code",
   "execution_count": 58,
   "metadata": {},
   "outputs": [
    {
     "name": "stdout",
     "output_type": "stream",
     "text": [
      "721 µs ± 59.2 µs per loop (mean ± std. dev. of 7 runs, 1,000 loops each)\n",
      "Solution using Gaussian elimination:\n",
      " [-4.39241309  4.89876229 -2.61858589  3.82519399 -2.99820986  1.71803346\n",
      " -2.12464156  1.9643241  -0.11271912  1.01932722 -0.41456532 -1.03703966\n",
      "  0.49406792 -0.7654965   2.52479378 -1.69610776  2.234203   -3.74350028\n",
      "  3.15010838 -3.46598139  5.18580499] \n",
      "\n"
     ]
    }
   ],
   "source": [
    "%timeit sol2 = gauss_elim(T,b)\n",
    "print(\"Solution using Gaussian elimination:\\n\",gauss_elim(T,b),'\\n')\n"
   ]
  },
  {
   "cell_type": "markdown",
   "metadata": {},
   "source": [
    "Classical iterative methods are problem because of 0 diagonals.\n",
    "\n",
    "Use Krylov subspace GMRES"
   ]
  },
  {
   "cell_type": "code",
   "execution_count": 60,
   "metadata": {},
   "outputs": [
    {
     "name": "stdout",
     "output_type": "stream",
     "text": [
      "994 µs ± 30.7 µs per loop (mean ± std. dev. of 7 runs, 1,000 loops each)\n",
      "GMRES converged successfully.\n",
      "Solution using sp.sparse.linalg.gmres:\n",
      " [-4.39241309  4.89876229 -2.61858589  3.82519399 -2.99820986  1.71803346\n",
      " -2.12464156  1.9643241  -0.11271912  1.01932722 -0.41456532 -1.03703966\n",
      "  0.49406792 -0.7654965   2.52479378 -1.69610776  2.234203   -3.74350028\n",
      "  3.15010838 -3.46598139  5.18580499]\n"
     ]
    }
   ],
   "source": [
    "sparse_T = sp.sparse.csr_matrix(T)\n",
    "\n",
    "# sparse matrix:\n",
    "# 1.12 ms ± 48 µs per loop (mean ± std. dev. of 7 runs, 1,000 loops each)\n",
    "#\n",
    "# dense matrix:\n",
    "# 994 µs ± 30.7 µs per loop (mean ± std. dev. of 7 runs, 1,000 loops each)\n",
    "#\n",
    "# Slightly faster for dense for some reason, sparcity < 90%\n",
    "# sparcity of T = 82.3% -ish\n",
    " \n",
    "%timeit sol3, exitCode = sp.sparse.linalg.gmres(T, b)\n",
    "sol3, exitCode = sp.sparse.linalg.gmres(T, b)\n",
    "\n",
    "# Check if the solution converged (exitCode should be 0)\n",
    "if exitCode == 0:\n",
    "    print(\"GMRES converged successfully.\")\n",
    "else:\n",
    "    print(\"GMRES did not converge. Exit code:\", exitCode)\n",
    "\n",
    "print(\"Solution using sp.sparse.linalg.gmres:\\n\", sol3)"
   ]
  }
 ],
 "metadata": {
  "kernelspec": {
   "display_name": "Python 3",
   "language": "python",
   "name": "python3"
  },
  "language_info": {
   "codemirror_mode": {
    "name": "ipython",
    "version": 3
   },
   "file_extension": ".py",
   "mimetype": "text/x-python",
   "name": "python",
   "nbconvert_exporter": "python",
   "pygments_lexer": "ipython3",
   "version": "3.12.3"
  }
 },
 "nbformat": 4,
 "nbformat_minor": 2
}
