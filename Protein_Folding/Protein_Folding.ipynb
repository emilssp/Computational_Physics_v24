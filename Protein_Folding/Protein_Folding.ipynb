{
 "cells": [
  {
   "cell_type": "code",
   "execution_count": 1,
   "metadata": {},
   "outputs": [],
   "source": [
    "begin\n",
    "\tusing Random\n",
    "\tusing Distributions\n",
    "\tusing Plots\n",
    "\tusing LinearAlgebra\n",
    "end"
   ]
  },
  {
   "cell_type": "code",
   "execution_count": 2,
   "metadata": {},
   "outputs": [
    {
     "data": {
      "text/plain": [
       "TaskLocalRNG()"
      ]
     },
     "metadata": {},
     "output_type": "display_data"
    }
   ],
   "source": [
    "begin \n",
    "\tseed = 1234\n",
    "\tRandom.seed!(1234)\n",
    "end"
   ]
  },
  {
   "cell_type": "code",
   "execution_count": 3,
   "metadata": {},
   "outputs": [],
   "source": [
    "begin\n",
    "\t\n",
    "\t#define aminoacids according to the standard one letter abbreviation and assign \n",
    "\t#them to a number\n",
    "\t@enum Aminoacid begin\n",
    "\t\tA = 1\n",
    "\t\tR = 2\n",
    "\t\tN = 3\n",
    "\t\tD = 4\n",
    "\t\tC = 5\n",
    "\t\tE = 6\n",
    "\t\tQ = 7\n",
    "\t\tG = 8\n",
    "\t\tH = 9\n",
    "\t\tI = 10\n",
    "\t\tL = 11\n",
    "\t\tK = 12\n",
    "\t\tM = 13\n",
    "\t\tF = 14\n",
    "\t\tP = 15\n",
    "\t\tS = 16\n",
    "\t\tT = 17\n",
    "\t\tW = 18\n",
    "\t\tY = 19\n",
    "\t\tV = 20\n",
    "\tend\t\n",
    "\t\n",
    "\tinteraction_mat = rand(Uniform(-4.00, -2.00), 20, 20);\n",
    "\tinteraction_mat = tril(interaction_mat)\n",
    "\tinteraction_mat += interaction_mat' - Diagonal(diag(interaction_mat))\n",
    "\theatmap(interaction_mat, colormap=:jet)\n",
    "\t\n",
    "end\n",
    "\n",
    "# ╔═╡ 36716b00-e7ba-11ee-119e-0ffc0a40ee38\n",
    "mutable struct Monomer\n",
    "\tid::Int64\n",
    "\tkind::Aminoacid #type of the monomer\n",
    "\tnearest_neighbors::Vector{Monomer}\n",
    "\tpos::Vector{Int64}\n",
    "\tavailable_moves::Vector{Vector{Int64}}\n",
    "\tfunction Monomer(id::Int64, kind::Aminoacid ,pos::Vector{Int64})\n",
    "\t\tnew(id, kind, Vector{Monomer}(), pos)\n",
    "\tend\n",
    "end"
   ]
  },
  {
   "cell_type": "code",
   "execution_count": 4,
   "metadata": {},
   "outputs": [
    {
     "data": {
      "text/plain": [
       "isdistance1 (generic function with 1 method)"
      ]
     },
     "metadata": {},
     "output_type": "display_data"
    }
   ],
   "source": [
    "function isdistance1(pos1, pos2)\n",
    "    return norm(pos1 - pos2) <= 1\n",
    "end"
   ]
  },
  {
   "cell_type": "code",
   "execution_count": 5,
   "metadata": {},
   "outputs": [
    {
     "data": {
      "text/plain": [
       "randPolymer (generic function with 1 method)"
      ]
     },
     "metadata": {},
     "output_type": "display_data"
    }
   ],
   "source": [
    "function randPolymer(init::Vector{Int64}, N::Int64)::Vector{Monomer}\n",
    "\t\n",
    "\taminos = [Aminoacid(rand(1:20)) for _ ∈ 1:N]\n",
    "\tmonomers = [Monomer(1, aminos[1], init)]\n",
    "\t\n",
    "\tfor i in 2:N\n",
    "\t\tmaxiter = 2\n",
    "\t\tnew_pos = Int64[]\n",
    "\t\tisValid = false\n",
    "\t\t\n",
    "\t\twhile !isValid && maxiter < 1000\n",
    "\t\t\t\n",
    "\t\t\tidx = rand([1,2])\n",
    "\t\t\tdirection = rand([-1,1])\n",
    "\t\t\tmove = zeros(2)\n",
    "\t\t\tmove[idx] =  direction\n",
    "\t\t\tnew_pos = monomers[i-1].pos + move\t\n",
    "\t\t\t\n",
    "\t\t\tisValid = all(norm(new_pos - m.pos)!=0 for m ∈ monomers)\n",
    "\t\t\tisValid *= all(new_pos .> 0)\n",
    "\t\t\tmaxiter+=1\n",
    "\t\t\t\n",
    "\t\tend\n",
    "\t\t\n",
    "\t\tif maxiter==1000\n",
    "\t\t\terror(\"Failed to build a polymer\")\n",
    "\t\t\tbreak\n",
    "\t\tend\n",
    "\t\t\n",
    "\t\tpush!(monomers, Monomer(i, aminos[i], Int64.(new_pos)))\n",
    "\t\n",
    "\tend\n",
    "\treturn monomers\n",
    "end"
   ]
  },
  {
   "cell_type": "code",
   "execution_count": 6,
   "metadata": {},
   "outputs": [
    {
     "data": {
      "text/plain": [
       "straightPolymer (generic function with 1 method)"
      ]
     },
     "metadata": {},
     "output_type": "display_data"
    }
   ],
   "source": [
    "function straightPolymer(init::Vector{Int64}, N::Int64)::Vector{Monomer}\n",
    "\t\t\n",
    "    aminos = [Aminoacid(rand(1:20)) for _ ∈ 1:N]\n",
    "    monomers = [Monomer(1, aminos[1], init)]\n",
    "\n",
    "    for i in 2:N\n",
    "        new_pos = monomers[i-1].pos + [1,0]\n",
    "        push!(monomers,Monomer(i, aminos[i],new_pos))\n",
    "    end\n",
    "    return monomers\n",
    "end"
   ]
  },
  {
   "cell_type": "code",
   "execution_count": 7,
   "metadata": {},
   "outputs": [],
   "source": [
    "mutable struct Polymer\n",
    "\tN::Int64 #number of monomers in the structure\n",
    "\tmonomers::Vector{Monomer} #constituents of the polymer\n",
    "\tenergy::Float64\n",
    "\tgrid::Matrix{Int64}\n",
    "\tis_movable::Vector{Int64}\n",
    "\tfunction Polymer(monomers::Vector{Monomer})\n",
    "\t\t\n",
    "\t\tN = length(monomers)\n",
    "\t\t\n",
    "\t\tgrid = zeros(Int64, 4*N,4*N) \n",
    "\t\tenergy = 0.00\n",
    "\t\tfor m ∈ monomers\n",
    "\t\t\tgrid[m.pos[1], m.pos[2]] = m.id\n",
    "\t\tend\n",
    "\t\tfor m ∈ monomers\n",
    "\t\t\tx,y = m.pos\n",
    "\t\t\t\n",
    "\t\t\tindices = [(x+1, y),(x-1, y),(x, y+1),(x, y-1)]\n",
    "\t\t\t\n",
    "\t\t\tpot_neighbors = filter(n-> n != 0, [grid[i,j] for (i,j) ∈ indices])\n",
    "\t\t\tm.nearest_neighbors = monomers[pot_neighbors]\n",
    "\t\t\tif m.id > 1\n",
    "\t\t\t\t# Remove the previous monomer (before) from the nearest_neighbors\n",
    "\t\t\t\tm.nearest_neighbors = filter(n -> n != monomers[m.id - 1], \t\t\t\t\t\t\t\t\t\t\t m.nearest_neighbors)\n",
    "\t\t\tend\n",
    "\t\t\tif m.id < length(monomers)\n",
    "\t\t\t\t# Remove the next monomer (after) from the nearest_neighbors\n",
    "\t\t\t\tm.nearest_neighbors = filter(n -> n != monomers[m.id + 1], \t\t\t\t\t\t\t\t\t\t\t m.nearest_neighbors)\n",
    "\t\t\tend\n",
    "\t\t\tfor n ∈ m.nearest_neighbors\n",
    "\t\t\t\tenergy += interaction_mat[Int(m.kind),Int(n.kind)]\n",
    "\t\t\tend\n",
    "\t\tend\n",
    "\t\tenergy = energy/2        #/2 to account for double counting of the energy\n",
    "\t\tnew(N,monomers,energy, grid, Vector{Int64}())\n",
    "\tend\n",
    "end"
   ]
  },
  {
   "cell_type": "code",
   "execution_count": 8,
   "metadata": {},
   "outputs": [
    {
     "data": {
      "text/plain": [
       "availableMoves! (generic function with 1 method)"
      ]
     },
     "metadata": {},
     "output_type": "display_data"
    }
   ],
   "source": [
    "function availableMoves!(mm::Monomer, pm::Polymer)\n",
    "    nrows, ncols = size(pm.grid)\n",
    "\trow,col = mm.pos\n",
    "\n",
    "\t# Offsets for Up, Down, Left, Right, Diagonals\n",
    "\toffsets = [(-1, 0), (1, 0), (0, -1), (0, 1), (-1, -1), (-1, 1), (1, -1), (1, 1),\n",
    "\t\t\t\t(-2, 0), (2, 0), (0, -2), (0, 2)]\n",
    "\n",
    "    neighbors = [\n",
    "        [row + dr, col + dc] for (dr, dc) in offsets\n",
    "        if 1+1 <= row + dr <= nrows-1 && 1+1 <= col + dc <= ncols-1 #Remember to fix\n",
    "\t\t\t\t&& pm.grid[row + dr, col + dc] == 0 ]\n",
    "\tif mm.id > 1\n",
    "\t\tneighbors = filter(n->isdistance1(n, pm.monomers[mm.id-1].pos), neighbors)\n",
    "\tend\n",
    "\tif mm.id < length(pm.monomers)\n",
    "\t\tneighbors = filter(n->isdistance1(n, pm.monomers[mm.id+1].pos), neighbors)\n",
    "\tend\n",
    "\tmm.available_moves = neighbors\n",
    "\tif !isempty(neighbors)\n",
    "\t\tpush!(pm.is_movable, mm.id)\n",
    "\tend \n",
    "end"
   ]
  },
  {
   "cell_type": "code",
   "execution_count": 9,
   "metadata": {},
   "outputs": [
    {
     "data": {
      "text/plain": [
       "updateMoves! (generic function with 1 method)"
      ]
     },
     "metadata": {},
     "output_type": "display_data"
    }
   ],
   "source": [
    "function updateMoves!(pm::Polymer)\n",
    "\tresize!(pm.is_movable, 0)\n",
    "\tfor m in pm.monomers\n",
    "\t\tavailableMoves!(m,pm)\n",
    "\tend\n",
    "end\n"
   ]
  },
  {
   "cell_type": "code",
   "execution_count": 10,
   "metadata": {},
   "outputs": [
    {
     "data": {
      "text/plain": [
       "moveMonomer! (generic function with 1 method)"
      ]
     },
     "metadata": {},
     "output_type": "display_data"
    }
   ],
   "source": [
    "function moveMonomer!(pm::Polymer, m::Monomer, pos_new::Vector{Int64})\n",
    "\t\n",
    "\tpm.monomers[m.id].pos = pos_new\n",
    "\tpm.grid[m.pos[1], m.pos[2]] = 0\n",
    "\tpm.grid[pos_new[1], pos_new[2]] = m.id\n",
    "\n",
    "\told_neighbors = copy(m.nearest_neighbors)\n",
    "\tresize!(m.nearest_neighbors, 0)\n",
    "\n",
    "\tx,y = m.pos\n",
    "\t\n",
    "\tindices = [(x+1, y),(x-1, y),(x, y+1),(x, y-1)]\n",
    "\tpot_neighbors = filter(n-> n != 0, [pm.grid[i,j] for (i,j) ∈ indices])\n",
    "\tm.nearest_neighbors = pm.monomers[pot_neighbors]\n",
    "\t\n",
    "\tpush!([nm for nm ∈ m.nearest_neighbors], m)\n",
    "\tif m.id > 1\n",
    "\t\t# Remove the previous monomer (before) from the nearest_neighbors\n",
    "\t\tm.nearest_neighbors = filter(n -> n != pm.monomers[m.id - 1], \t\t\t\t\t\t\t\t\t\t\t m.nearest_neighbors)\n",
    "\tend\n",
    "\tif m.id < length(pm.monomers)\n",
    "\t\t# Remove the next monomer (after) from the nearest_neighbors\n",
    "\t\tm.nearest_neighbors = filter(n -> n != pm.monomers[m.id + 1], \t\t\t\t\t\t\t\t\t\t\t m.nearest_neighbors)\n",
    "\tend\n",
    "\tsetdiff!(old_neighbors, m.nearest_neighbors)\n",
    "\tfor nm ∈ old_neighbors\n",
    "\t\tidx = findfirst(n -> n === m, pm.monomers[nm.id].nearest_neighbors)\n",
    "\t    if idx !== nothing\n",
    "\t        deleteat!(pm.monomers[nm.id].nearest_neighbors, idx)\n",
    "\t    end\n",
    "\tend\n",
    "\tpm.monomers[m.id] = m\n",
    "end"
   ]
  },
  {
   "cell_type": "code",
   "execution_count": 11,
   "metadata": {},
   "outputs": [
    {
     "data": {
      "text/plain": [
       "calculateEnergy! (generic function with 1 method)"
      ]
     },
     "metadata": {},
     "output_type": "display_data"
    }
   ],
   "source": [
    "function calculateEnergy!(pm::Polymer)\n",
    "\n",
    "\tmonomers = pm.monomers\n",
    "\tenergy = 0.0\n",
    "\n",
    "\tfor m ∈ monomers\t\n",
    "\t\tfor n ∈ m.nearest_neighbors\n",
    "\t\t\tenergy += interaction_mat[Int(m.kind),Int(n.kind)]\n",
    "\t\tend\n",
    "\tend \n",
    "\tpm.energy = energy/2\n",
    "end "
   ]
  },
  {
   "cell_type": "code",
   "execution_count": 12,
   "metadata": {},
   "outputs": [
    {
     "data": {
      "text/plain": [
       "calculateEndToEnd (generic function with 1 method)"
      ]
     },
     "metadata": {},
     "output_type": "display_data"
    }
   ],
   "source": [
    "function calculateEndToEnd(pm)\n",
    "\treturn norm(pm.monomers[end].pos-pm.monomers[1].pos)\n",
    "end"
   ]
  },
  {
   "cell_type": "code",
   "execution_count": 13,
   "metadata": {},
   "outputs": [
    {
     "data": {
      "text/plain": [
       "calculateRoG (generic function with 1 method)"
      ]
     },
     "metadata": {},
     "output_type": "display_data"
    }
   ],
   "source": [
    "function calculateRoG(pm)\n",
    "\tcoordinates = hcat([monomer.pos for monomer ∈ pm.monomers]...)\n",
    "    center_of_mass = sum(coordinates, dims=1) ./ size(coordinates, 1)\n",
    "    squared_distances = sum((coordinates .- center_of_mass).^2, dims=2)\n",
    "    return sqrt(sum(squared_distances) / size(coordinates, 1))\n",
    "end"
   ]
  },
  {
   "cell_type": "code",
   "execution_count": 14,
   "metadata": {},
   "outputs": [
    {
     "data": {
      "text/plain": [
       "plotPolymer! (generic function with 1 method)"
      ]
     },
     "metadata": {},
     "output_type": "display_data"
    }
   ],
   "source": [
    "function plotPolymer!(plt, pm, i)\n",
    "\tmm = deepcopy(pm.monomers) # we dont change the original system, just the plot \n",
    "\tfor monomer ∈ mm\n",
    "\t\t\n",
    "\t    # Plot lines to the nearest neighbors for each monomer\n",
    "\t    for neighbor ∈ monomer.nearest_neighbors\n",
    "\t        plot!(plt, [monomer.pos[1], neighbor.pos[1]],\n",
    "\t              [monomer.pos[2], neighbor.pos[2]],\n",
    "\t              color = :green, line=(:dash, [2,2]) )\n",
    " \n",
    "\t\t\t#removes the current monomer from the list with nearest neighbors of the its own nearest neighbors to avoid double plotting the dashed line\n",
    "\t\t\tfilter!(n -> !(n==monomer), neighbor.nearest_neighbors)\n",
    "\t\t\t\t \n",
    "\t    end \n",
    "\tend\n",
    "\tx_positions = [monomer.pos[1] for monomer ∈ pm.monomers] \n",
    "\ty_positions = [monomer.pos[2] for monomer ∈ pm.monomers]\n",
    "\n",
    "\t\n",
    "\t# Create a scatter plot of the positions\n",
    "\tplot!(plt, x_positions, y_positions, linecolor=\"black\", linewidth=4, alpha = 1)\n",
    "\tscatter!(plt, x_positions[1:end], y_positions[1:end], \n",
    "\t\t\tcolor=:red, markersize=5, legend=false, title = \"After $i sweeps\") \n",
    "\tscatter!(plt, [x_positions[1]], [y_positions[1]], \n",
    "\t\t\tcolor=:orange, markersize=5, legend=false)\n",
    "end\n"
   ]
  },
  {
   "cell_type": "code",
   "execution_count": 15,
   "metadata": {},
   "outputs": [
    {
     "data": {
      "text/plain": [
       "Boltzmann (generic function with 1 method)"
      ]
     },
     "metadata": {},
     "output_type": "display_data"
    }
   ],
   "source": [
    "function Boltzmann(E_new::Float64, E_old::Float64, T::Float64)::Float64\n",
    "\tΔE = E_new - E_old\n",
    "\treturn exp(-ΔE/T)\n",
    "end \n"
   ]
  },
  {
   "cell_type": "code",
   "execution_count": 16,
   "metadata": {},
   "outputs": [],
   "source": [
    "struct Log \n",
    "\tsteps::Int64\n",
    "\tenergy::Float64\n",
    "\tend_to_end::Float64\n",
    "\tRoG::Float64\n",
    "\taccepted::Int64\n",
    "\trejected::Int64\n",
    "\tfunction Log(steps::Int64, energy::Float64,end_to_end::Float64,\n",
    "\t\t\t\tRoG::Float64, accepted::Int64, rejected::Int64)\n",
    "\t\tnew(steps, energy, end_to_end, RoG, accepted, rejected)\n",
    "\tend\n",
    "end"
   ]
  },
  {
   "cell_type": "code",
   "execution_count": 17,
   "metadata": {},
   "outputs": [],
   "source": [
    "struct Logger\n",
    "\theader::String\n",
    "\tlogs::Vector{Log}\n",
    "\tfooter::String\n",
    "\tfile::String\n",
    "\tfunction Logger(seed::Int64,temperature::Float64,N::Int64, file)\n",
    "\t\thead = \"Starting MC simulation \\nSeed: $(seed) \\nTemperature: $(temperature)\\nNumber of monomers: $(N)\\nSteps Energy End-to-end RoG Accepted Rejected\\n\\n\"\n",
    "\t\tfoot = \"\\n Simulation completed\\n\\n\"\n",
    "\t\tnew(head, Vector{Log}(), foot, file)\n",
    "\tend\n",
    "end"
   ]
  },
  {
   "cell_type": "code",
   "execution_count": 18,
   "metadata": {},
   "outputs": [
    {
     "data": {
      "text/plain": [
       "addLog! (generic function with 1 method)"
      ]
     },
     "metadata": {},
     "output_type": "display_data"
    }
   ],
   "source": [
    "function addLog!(logger::Logger, steps::Int64, energy::Float64, \n",
    "    end_to_end::Float64, RoG::Float64, accepted::Int64, rejected::Int64)\n",
    "push!(logger.logs, Log(steps, energy, end_to_end, RoG, accepted, rejected))\n",
    "end\n"
   ]
  },
  {
   "cell_type": "code",
   "execution_count": 19,
   "metadata": {},
   "outputs": [
    {
     "data": {
      "text/plain": [
       "writeLog (generic function with 1 method)"
      ]
     },
     "metadata": {},
     "output_type": "display_data"
    }
   ],
   "source": [
    "function writeLog(logger::Logger)\n",
    "\tfilename = \"raw/\" * logger.file\n",
    "\tio = open(filename, \"w+\")\n",
    "\twrite(io, logger.header)\n",
    "\tfor log ∈ logger.logs\n",
    "    \twrite(io, \"$(log.steps),$(log.energy),$(log.end_to_end),$(log.RoG),$(log.accepted),$(log.rejected)\\n\")\n",
    "\tend\n",
    "    write(io, logger.footer)\n",
    "\tflush(io)\n",
    "\tclose(io)\n",
    "end"
   ]
  },
  {
   "cell_type": "code",
   "execution_count": 20,
   "metadata": {},
   "outputs": [
    {
     "data": {
      "text/plain": [
       "10.0"
      ]
     },
     "metadata": {},
     "output_type": "display_data"
    }
   ],
   "source": [
    "const temperature10 = 10.0"
   ]
  },
  {
   "cell_type": "code",
   "execution_count": 21,
   "metadata": {},
   "outputs": [
    {
     "data": {
      "text/plain": [
       "runAndPlotMC! (generic function with 1 method)"
      ]
     },
     "metadata": {},
     "output_type": "display_data"
    }
   ],
   "source": [
    "function runAndPlotMC!(pm::Polymer, steps::Int64, distribution::Function, \n",
    "    temperature::Float64; seed=123, filelog=\"MC_log.txt\")\n",
    "\n",
    "logger = Logger(seed, temperature, length(pm.monomers), filelog)\n",
    "\n",
    "updateMoves!(pm) \t\n",
    "\n",
    "accepted = 0\n",
    "rejected = 0\n",
    "\n",
    "energies = Float64[]\n",
    "\n",
    "\n",
    "push!(energies, pm.energy)\n",
    "\n",
    "end_to_end = calculateEndToEnd(pm)\n",
    "RoG = calculateRoG(pm)\n",
    "addLog!(logger, 0, pm.energy, end_to_end, RoG, 0, 0)\n",
    "\n",
    "plt = plot(layout = 4, grid = false)\n",
    "\n",
    "plotPolymer!(plt[1], pm, 0)\n",
    "\n",
    "for i ∈ 1:steps\n",
    "for j ∈ 1:length(pm.monomers)\n",
    "pm_old = deepcopy(pm)\n",
    "\n",
    "monomer = pm.monomers[rand(pm.is_movable)]\n",
    "new_pos = rand(monomer.available_moves)\n",
    "moveMonomer!(pm, monomer, new_pos)\n",
    "\n",
    "pm_new= Polymer(pm.monomers)\n",
    "\n",
    "calculateEnergy!(pm_new)\n",
    "\n",
    "accept = false \n",
    "\n",
    "if pm_old.energy >= pm_new.energy\n",
    "accept = true\n",
    "else\n",
    "b = Boltzmann(pm_new.energy, pm_old.energy, temperature)\n",
    "if b >= rand()\n",
    "accept = true\n",
    "else\n",
    "accept = false\n",
    "end\n",
    "end\n",
    "if accept\n",
    "accepted+=1\n",
    "updateMoves!(pm_new)\n",
    "calculateEnergy!(pm_new) \n",
    "pm = deepcopy(pm_new) \n",
    "else\n",
    "rejected+=1\n",
    "updateMoves!(pm_old)\n",
    "calculateEnergy!(pm_old) \n",
    "pm = deepcopy(pm_old)\n",
    "end\n",
    "end\n",
    "if i % 10 == 0\n",
    "push!(energies, pm.energy)\n",
    "end_to_end = calculateEndToEnd(pm)\n",
    "RoG = calculateRoG(pm)\n",
    "addLog!(logger, i, pm.energy, end_to_end, RoG, accepted, rejected)\n",
    "end\n",
    "if i == 10\n",
    "plotPolymer!(plt[2], pm, i)\n",
    "end\n",
    "if i == 100\n",
    "plotPolymer!(plt[3], pm, i)\n",
    "end\n",
    "if i == steps\n",
    "plotPolymer!(plt[4], pm, i)\n",
    "end\n",
    "end \n",
    "writeLog(logger)\n",
    "return energies, plt\n",
    "end"
   ]
  },
  {
   "cell_type": "code",
   "execution_count": 22,
   "metadata": {},
   "outputs": [
    {
     "data": {
      "text/plain": [
       "MonteCarlo! (generic function with 1 method)"
      ]
     },
     "metadata": {},
     "output_type": "display_data"
    }
   ],
   "source": [
    "function MCstep!(pm::Polymer, accepted::Int, rejected::Int, distribution::Function, T::Float64)\n",
    "\t\n",
    "\tfor j ∈ 1:length(pm.monomers)\n",
    "\t\tpm_old = deepcopy(pm)\n",
    "\n",
    "\t\tmonomer = pm.monomers[rand(pm.is_movable)]\n",
    "\t\tnew_pos = rand(monomer.available_moves)\n",
    "\t\tmoveMonomer!(pm, monomer, new_pos)\n",
    "\n",
    "\t\tpm_new= Polymer(pm.monomers)\n",
    "\t\t\n",
    "\t\tcalculateEnergy!(pm_new)\n",
    "\t\t\n",
    "\t\taccept = false \n",
    "\n",
    "\t\tif pm_old.energy >= pm_new.energy\n",
    "\t\t\taccept = true\n",
    "\t\telse\n",
    "\t\t\tb = distribution(pm_new.energy, pm_old.energy, T)\n",
    "\t\t\tif b >= rand()\n",
    "\t\t\t\taccept = true\n",
    "\t\t\telse\n",
    "\t\t\t\taccept = false\n",
    "\t\t\tend\n",
    "\t\tend\n",
    "\t\tif accept\n",
    "\t\t\taccepted+=1\n",
    "\t\t\tupdateMoves!(pm_new)\n",
    "\t\t\tcalculateEnergy!(pm_new) \n",
    "\t\t\tpm = deepcopy(pm_new) \n",
    "\t\telse\n",
    "\t\t\trejected+=1\n",
    "\t\t\tupdateMoves!(pm_old)\n",
    "\t\t\tcalculateEnergy!(pm_old) \n",
    "\t\t\tpm = deepcopy(pm_old)\n",
    "\t\tend\n",
    "\tend\n",
    "\treturn pm\n",
    "end\n",
    "\n",
    "# ╔═╡ c9ba9a81-7491-48ff-86cd-644e18fcf2a0\n",
    "function MonteCarlo!(pm::Polymer, steps::Int64, distribution::Function, T::Float64; \t\t\t\t\t\tseed=1234, filelog=\"MC_log.txt\")\n",
    "\t\n",
    "\tlogger = Logger(seed, T, length(pm.monomers), filelog)\n",
    "\t\n",
    "\tupdateMoves!(pm) \t\n",
    "\t\n",
    "\taccepted = 0\n",
    "\trejected = 0\n",
    "\t\n",
    "\tenergies = Float64[]\n",
    "\t\n",
    "\n",
    "\tpush!(energies, pm.energy)\n",
    "\n",
    "\tend_to_end = calculateEndToEnd(pm)\n",
    "\tRoG = calculateRoG(pm)\n",
    "\taddLog!(logger, 0, pm.energy, end_to_end, RoG, 0, 0)\n",
    "\t\n",
    "\n",
    "\tfor i ∈ 1:steps\n",
    "\t\tpm = MCstep!(pm, accepted, rejected, distribution, T)\n",
    "\t\tif i % 10 == 0\n",
    "\t\t\tpush!(energies, pm.energy)\n",
    "\t\t\tend_to_end = calculateEndToEnd(pm)\n",
    "\t\t\tRoG = calculateRoG(pm)\n",
    "\t\t\taddLog!(logger, i, pm.energy, end_to_end, RoG, accepted, rejected)\n",
    "\t\tend\n",
    "\n",
    "\tend \n",
    "\t\n",
    "\treturn pm, logger\n",
    "end"
   ]
  },
  {
   "cell_type": "code",
   "execution_count": 23,
   "metadata": {},
   "outputs": [
    {
     "data": {
      "text/plain": [
       "initiate (generic function with 1 method)"
      ]
     },
     "metadata": {},
     "output_type": "display_data"
    }
   ],
   "source": [
    "function initiate(N::Int64, T::Float64; seed=1234)\n",
    "\titer = 0\n",
    "\tpm = Polymer(straightPolymer([20,20], N))\n",
    "\tupdateMoves!(pm) \t\n",
    "\n",
    "\twhile iter<50 || abs(pm.energy) > 1e-9\n",
    "\t\titer+=1 \n",
    "\t\tpm = MCstep!(pm, 0, 0, Boltzmann, T)\n",
    "\tend\n",
    "\treturn pm\n",
    "end\n"
   ]
  },
  {
   "cell_type": "code",
   "execution_count": 24,
   "metadata": {},
   "outputs": [
    {
     "data": {
      "text/plain": [
       "([0.0, -2.603044561910255, -15.378285496046981, -8.105840949512483, -9.664915679393019, 0.0, -2.3800110528287775, -9.641942985211964, -7.839434498979967, -2.208289969175694  …  -11.406820577088252, -5.081725503174836, -14.517702983110016, -18.071384359856534, -8.323475800067982, -12.619740186142453, -14.873388061965265, -6.156725938656772, -20.24619254004005, -2.1748081801835135], Plot{Plots.GRBackend() n=14})"
      ]
     },
     "metadata": {},
     "output_type": "display_data"
    }
   ],
   "source": [
    "begin \n",
    "\tpolymer = initiate(15, 100.0)#Polymer(straightPolymer([20,20], 15))\n",
    "\tenergies, plt = runAndPlotMC!(polymer, 10000, Boltzmann, 10.0; seed=seed) \n",
    "end"
   ]
  },
  {
   "cell_type": "code",
   "execution_count": 25,
   "metadata": {},
   "outputs": [
    {
     "data": {
      "text/plain": [
       "running_avg (generic function with 1 method)"
      ]
     },
     "metadata": {},
     "output_type": "display_data"
    }
   ],
   "source": [
    "function running_avg(x)\n",
    "\tx_avg = cumsum(x)\n",
    "\tfor i ∈ 1:length(x)\n",
    "\t\tx_avg[i] = x_avg[i]/(i)\n",
    "\tend\n",
    "\treturn x_avg, 0:10:10*length(x)-1\n",
    "end"
   ]
  },
  {
   "cell_type": "code",
   "execution_count": null,
   "metadata": {},
   "outputs": [],
   "source": [
    "begin\n",
    "\tenergies_avg, steps =  running_avg(energies)\n",
    "\tplt2 = plot()\n",
    "\tplot!(steps, energies_avg, \n",
    "\t\txlabel = \"Number of sweeps\", ylabel = \"Average energy [\\$k_B\\$K]\", \n",
    "\t\tlabel = \"\\$T = $(temperature10)\\$\", linewidth = 2)\n",
    "end"
   ]
  },
  {
   "cell_type": "code",
   "execution_count": 29,
   "metadata": {},
   "outputs": [
    {
     "ename": "UndefVarError",
     "evalue": "UndefVarError: `logger` not defined",
     "output_type": "error",
     "traceback": [
      "UndefVarError: `logger` not defined\n",
      "\n",
      "Stacktrace:\n",
      " [1] top-level scope\n",
      "   @ d:\\Uni\\Computational Physics\\Computational_Physics_v24\\Protein_Folding\\Protein_Folding.ipynb:5"
     ]
    }
   ],
   "source": [
    "begin\n",
    "\tpm = initiate(20, 100.0)\t\n",
    "\tpm = MonteCarlo!(pm, 500, Boltzmann, 10.0;\n",
    "\t\t\t\t\t\t\tseed=seed, filelog = \"annealing/MC.txt\")[1]\n",
    "\tenergies_avg3, steps3 =  running_avg([l.energy for l ∈ logger.logs])\n",
    "\tplt3 = plot()\n",
    "\tplot!(steps3, energies_avg3)\n",
    "end"
   ]
  },
  {
   "cell_type": "code",
   "execution_count": 27,
   "metadata": {},
   "outputs": [
    {
     "data": {
      "text/plain": [
       "annealing (generic function with 1 method)"
      ]
     },
     "metadata": {},
     "output_type": "display_data"
    }
   ],
   "source": [
    "function annealing(N::Int64)\n",
    "\tT_arr = 40:-1:1\n",
    "\tsteps = 2000\n",
    "\tpm = initiate(N, 100.0)\t\n",
    "    Threads.@threads for t in T_arr\n",
    "\t\tpm, logger = MonteCarlo!(pm, steps, Boltzmann, Float64(t);\n",
    "\t\t\t\t\t\tseed=seed, filelog = \"annealing/MC_$(N)x$(steps)_$(t)a.txt\")\n",
    "\t\twriteLog(logger)\n",
    "\tend\n",
    "end"
   ]
  },
  {
   "cell_type": "code",
   "execution_count": 28,
   "metadata": {},
   "outputs": [],
   "source": [
    "annealing(10) "
   ]
  }
 ],
 "metadata": {
  "kernelspec": {
   "display_name": "Julia 1.10.0",
   "language": "julia",
   "name": "julia-1.10"
  },
  "language_info": {
   "file_extension": ".jl",
   "mimetype": "application/julia",
   "name": "julia",
   "version": "1.10.0"
  }
 },
 "nbformat": 4,
 "nbformat_minor": 2
}
